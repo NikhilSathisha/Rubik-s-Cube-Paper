{
 "cells": [
  {
   "cell_type": "code",
   "execution_count": 2,
   "metadata": {},
   "outputs": [],
   "source": [
    "import numpy as np"
   ]
  },
  {
   "cell_type": "code",
   "execution_count": 54,
   "metadata": {
    "scrolled": false
   },
   "outputs": [
    {
     "ename": "SyntaxError",
     "evalue": "invalid syntax (<ipython-input-54-a9ec6e985d13>, line 12)",
     "output_type": "error",
     "traceback": [
      "\u001b[1;36m  File \u001b[1;32m\"<ipython-input-54-a9ec6e985d13>\"\u001b[1;36m, line \u001b[1;32m12\u001b[0m\n\u001b[1;33m    dict = {0:\"I\", 1:\"X\" 2:\"X^2\", 3:\"X^3\", 4:\"Y\", 5:\"Y^2\", 6:\"Y^3\", 7:\"Z\", 8:\"Z^2\", 9:\"Z^3\", 10:\"XY\", 11:\"XY^2\",12:\"XY^3\", 13: \"XZ\", 14: \"XZ^2\", 15:\"XZ^3\", 16:\"X^2Y\", 17:\"X^2Y^3\", 18:\"X^3Y\", 19:\"X^3Y^3\", 20:\"X^2Z\", 21:\"X^2Z^3\", 22:\"X^3Z\", 23: \"X^3Z^3\"}\u001b[0m\n\u001b[1;37m                         ^\u001b[0m\n\u001b[1;31mSyntaxError\u001b[0m\u001b[1;31m:\u001b[0m invalid syntax\n"
     ]
    }
   ],
   "source": [
    "X = np.array([1,0,0,0,0,1,0,-1,0])\n",
    "X = X.reshape(3,3)\n",
    "Y = np.array([0,0,-1,0,1,0,1,0,0])\n",
    "Y = Y.reshape(3,3)\n",
    "Z = np.array([0,1,0,-1,0,0,0,0,1])\n",
    "Z = Z.reshape(3,3)\n",
    "I = np.array([1,0,0,0,1,0,0,0,1])\n",
    "I = I.reshape(3,3)\n",
    "print(X)\n",
    "print(Y)\n",
    "print(Z)\n",
    "dict = {0:\"I\", 1:\"X\" 2:\"X^2\", 3:\"X^3\", 4:\"Y\", 5:\"Y^2\", 6:\"Y^3\", 7:\"Z\", 8:\"Z^2\", 9:\"Z^3\", 10:\"XY\", 11:\"XY^2\",12:\"XY^3\", 13: \"XZ\", 14: \"XZ^2\", 15:\"XZ^3\", 16:\"X^2Y\", 17:\"X^2Y^3\", 18:\"X^3Y\", 19:\"X^3Y^3\", 20:\"X^2Z\", 21:\"X^2Z^3\", 22:\"X^3Z\", 23: \"X^3Z^3\"}\n",
    "grp = [I,X,X@X,X@X@X,Y,Y@Y,Y@Y@Y,Z,Z@Z,Z@Z@Z,X@Y,X@Y@Y,X@Y@Y@Y,X@Z,X@Z@Z,X@Z@Z@Z,X@X@Y,X@X@Y@Y@Y,X@X@X@Y,X@X@X@Y@Y@Y,X@X@Z,X@X@Z@Z@Z,X@X@X@Z,X@X@X@Z@Z@Z]"
   ]
  },
  {
   "cell_type": "code",
   "execution_count": 55,
   "metadata": {},
   "outputs": [
    {
     "name": "stdout",
     "output_type": "stream",
     "text": [
      "\n",
      "\n",
      "[[1 0 0]\n",
      " [0 1 0]\n",
      " [0 0 1]]\n",
      "\n",
      "\n",
      "[[ 1  0  0]\n",
      " [ 0  0  1]\n",
      " [ 0 -1  0]]\n",
      "\n",
      "\n",
      "[[ 1  0  0]\n",
      " [ 0 -1  0]\n",
      " [ 0  0 -1]]\n",
      "\n",
      "\n",
      "[[ 1  0  0]\n",
      " [ 0  0 -1]\n",
      " [ 0  1  0]]\n",
      "\n",
      "\n",
      "[[ 0  0 -1]\n",
      " [ 0  1  0]\n",
      " [ 1  0  0]]\n",
      "\n",
      "\n",
      "[[-1  0  0]\n",
      " [ 0  1  0]\n",
      " [ 0  0 -1]]\n",
      "\n",
      "\n",
      "[[ 0  0  1]\n",
      " [ 0  1  0]\n",
      " [-1  0  0]]\n",
      "\n",
      "\n",
      "[[ 0  1  0]\n",
      " [-1  0  0]\n",
      " [ 0  0  1]]\n",
      "\n",
      "\n",
      "[[-1  0  0]\n",
      " [ 0 -1  0]\n",
      " [ 0  0  1]]\n",
      "\n",
      "\n",
      "[[ 0 -1  0]\n",
      " [ 1  0  0]\n",
      " [ 0  0  1]]\n",
      "\n",
      "\n",
      "[[ 0  0 -1]\n",
      " [ 1  0  0]\n",
      " [ 0 -1  0]]\n",
      "\n",
      "\n",
      "[[-1  0  0]\n",
      " [ 0  0 -1]\n",
      " [ 0 -1  0]]\n",
      "\n",
      "\n",
      "[[ 0  0  1]\n",
      " [-1  0  0]\n",
      " [ 0 -1  0]]\n",
      "\n",
      "\n",
      "[[0 1 0]\n",
      " [0 0 1]\n",
      " [1 0 0]]\n",
      "\n",
      "\n",
      "[[-1  0  0]\n",
      " [ 0  0  1]\n",
      " [ 0  1  0]]\n",
      "\n",
      "\n",
      "[[ 0 -1  0]\n",
      " [ 0  0  1]\n",
      " [-1  0  0]]\n",
      "\n",
      "\n",
      "[[ 0  0 -1]\n",
      " [ 0 -1  0]\n",
      " [-1  0  0]]\n",
      "\n",
      "\n",
      "[[ 0  0  1]\n",
      " [ 0 -1  0]\n",
      " [ 1  0  0]]\n",
      "\n",
      "\n",
      "[[ 0  0 -1]\n",
      " [-1  0  0]\n",
      " [ 0  1  0]]\n",
      "\n",
      "\n",
      "[[0 0 1]\n",
      " [1 0 0]\n",
      " [0 1 0]]\n",
      "\n",
      "\n",
      "[[ 0  1  0]\n",
      " [ 1  0  0]\n",
      " [ 0  0 -1]]\n",
      "\n",
      "\n",
      "[[ 0 -1  0]\n",
      " [-1  0  0]\n",
      " [ 0  0 -1]]\n",
      "\n",
      "\n",
      "[[ 0  1  0]\n",
      " [ 0  0 -1]\n",
      " [-1  0  0]]\n",
      "\n",
      "\n",
      "[[ 0 -1  0]\n",
      " [ 0  0 -1]\n",
      " [ 1  0  0]]\n"
     ]
    }
   ],
   "source": [
    "\n",
    "for x in grp:\n",
    "    print('\\n')\n",
    "    print(x)\n"
   ]
  },
  {
   "cell_type": "code",
   "execution_count": 56,
   "metadata": {
    "scrolled": false
   },
   "outputs": [
    {
     "name": "stdout",
     "output_type": "stream",
     "text": [
      "hi0\n",
      "[[1 0 0]\n",
      " [0 1 0]\n",
      " [0 0 1]]\n",
      "[[1 0 0]\n",
      " [0 1 0]\n",
      " [0 0 1]]\n",
      "[[1 0 0]\n",
      " [0 1 0]\n",
      " [0 0 1]]\n",
      "[[1 0 0]\n",
      " [0 1 0]\n",
      " [0 0 1]]\n",
      "[[1 0 0]\n",
      " [0 1 0]\n",
      " [0 0 1]]\n",
      "[[1 0 0]\n",
      " [0 1 0]\n",
      " [0 0 1]]\n",
      "[[1 0 0]\n",
      " [0 1 0]\n",
      " [0 0 1]]\n",
      "[[1 0 0]\n",
      " [0 1 0]\n",
      " [0 0 1]]\n",
      "[[1 0 0]\n",
      " [0 1 0]\n",
      " [0 0 1]]\n",
      "[[1 0 0]\n",
      " [0 1 0]\n",
      " [0 0 1]]\n",
      "[[1 0 0]\n",
      " [0 1 0]\n",
      " [0 0 1]]\n",
      "[[1 0 0]\n",
      " [0 1 0]\n",
      " [0 0 1]]\n",
      "[[1 0 0]\n",
      " [0 1 0]\n",
      " [0 0 1]]\n",
      "[[1 0 0]\n",
      " [0 1 0]\n",
      " [0 0 1]]\n",
      "[[1 0 0]\n",
      " [0 1 0]\n",
      " [0 0 1]]\n",
      "[[1 0 0]\n",
      " [0 1 0]\n",
      " [0 0 1]]\n",
      "[[1 0 0]\n",
      " [0 1 0]\n",
      " [0 0 1]]\n",
      "[[1 0 0]\n",
      " [0 1 0]\n",
      " [0 0 1]]\n",
      "[[1 0 0]\n",
      " [0 1 0]\n",
      " [0 0 1]]\n",
      "[[1 0 0]\n",
      " [0 1 0]\n",
      " [0 0 1]]\n",
      "[[1 0 0]\n",
      " [0 1 0]\n",
      " [0 0 1]]\n",
      "[[1 0 0]\n",
      " [0 1 0]\n",
      " [0 0 1]]\n",
      "[[1 0 0]\n",
      " [0 1 0]\n",
      " [0 0 1]]\n",
      "[[1 0 0]\n",
      " [0 1 0]\n",
      " [0 0 1]]\n"
     ]
    }
   ],
   "source": [
    "a = X@X@X@X\n",
    "num = 0\n",
    "for x in grp:\n",
    "    if(x == a).all():\n",
    "        print('hi'+str(num))\n",
    "    num = num+1\n",
    "    print(str(a))"
   ]
  },
  {
   "cell_type": "code",
   "execution_count": 67,
   "metadata": {
    "scrolled": true
   },
   "outputs": [
    {
     "name": "stdout",
     "output_type": "stream",
     "text": [
      "I\tX^2\tX^3\tY\tY^2\tY^3\tZ\tZ^2\tZ^3\tXY\tXY^2\tXY^3\tXZ\tXZ^2\tXZ^3\tX^2Y\tX^2Y^3\tX^3Y\tX^3Y^3\tX^2Z\tX^2Z^3\tX^2Z^3\tX^3Z\tX^3Z^3\t\n",
      "X^2\tX^3\tY\tI\tXY^2\tXY^3\tXZ\tXZ^2\tXZ^3\tX^2Y\tX^2Y^3\tZ^3\tX^3Y\tX^2Z^3\tY^3\tX^2Z^3\tX^3Y^3\tX^2Z\tY^2\tZ\tX^3Z\tX^3Z^3\tZ^2\tXY\t\n",
      "X^3\tY\tI\tX^2\tX^2Y^3\tZ^3\tX^3Y\tX^2Z^3\tY^3\tX^2Z^3\tX^3Y^3\tXZ^3\tX^2Z\tX^3Z\tXY^3\tX^3Z^3\tY^2\tZ\tXY^2\tXZ\tZ^2\tXY\tXZ^2\tX^2Y\t\n",
      "Y\tI\tX^2\tX^3\tX^3Y^3\tXZ^3\tX^2Z\tX^3Z\tXY^3\tX^3Z^3\tY^2\tY^3\tZ\tZ^2\tZ^3\tXY\tXY^2\tXZ\tX^2Y^3\tX^3Y\tXZ^2\tX^2Y\tX^2Z^3\tX^2Z^3\t\n",
      "Y^2\tXZ^2\tX^3Y\tX^3Z^3\tY^3\tZ\tI\tX^3Y^3\tX^2Y^3\tXY^2\tX^2Z^3\tX^3Z\tZ^2\tXZ^3\tX^2Y\tX^2\tX^3\tZ^3\tX^2Z^3\tXY\tX^2Z\tXZ\tY\tXY^3\t\n",
      "Y^3\tXZ^3\tZ^3\tXY^3\tZ\tI\tY^2\tX^2Z^3\tX^3\tX^2Z^3\tX^2Z\tY\tX^3Y^3\tX^2Y\tX^2\tXZ^2\tX^3Y\tX^2Y^3\tXZ\tXY^2\tXY\tZ^2\tX^3Z^3\tX^3Z\t\n",
      "Z\tX^2Y\tX^2Y^3\tX^3Z\tI\tY^2\tY^3\tXZ\tX^3Y\tX^2Z\tXY\tX^3Z^3\tX^2Z^3\tX^2\tXZ^2\tXZ^3\tZ^3\tX^3\tZ^2\tX^2Z^3\tXY^2\tX^3Y^3\tXY^3\tY\t\n",
      "Z^2\tXZ\tX^2Z^3\tX^3Y^3\tXZ^2\tX^2Z^3\tX^3Z\tZ^3\tXY\tI\tX^2\tXY^2\tXY^3\tX^3Y\tX^2Z\tZ\tX^2Y\tX^3Z^3\tXZ^3\tY\tX^3\tY^3\tX^2Y^3\tY^2\t\n",
      "Z^3\tXY^3\tY^3\tXZ^3\tX^3Y\tX^3\tX^2Y^3\tXY\tI\tZ^2\tXZ\tX^2\tXY^2\tX^3Z^3\tY\tX^3Z\tZ\tY^2\tX^2Z\tX^3Y^3\tX^2Z^3\tX^2Z^3\tX^2Y\tXZ^2\t\n",
      "XY\tXY^2\tX^2Z^3\tX^2Z\tX^3Z^3\tX^2Z^3\tX^2Y\tI\tZ^2\tZ^3\tXY^3\tXZ\tX^2\tY^2\tX^3Y^3\tX^2Y^3\tX^3Z\tXZ^2\tY\tXZ^3\tY^3\tX^3\tZ\tX^3Y\t\n",
      "XY^2\tX^2Z^3\tX^2Z\tXY\tXY^3\tXZ\tX^2\tY^2\tX^3Y^3\tX^2Y^3\tX^3Z\tZ^2\tXZ^2\tY^3\tX^2Z^3\tX^3\tY\tXZ^3\tX^3Z^3\tX^2Y\tZ\tX^3Y\tI\tZ^3\t\n",
      "XY^3\tY^3\tXZ^3\tZ^3\tXZ\tX^2\tXY^2\tX^3Z^3\tY\tX^3Z\tZ\tI\tY^2\tX^2Z^3\tX^3\tX^2Z^3\tX^2Z\tX^3Y^3\tX^3Y\tX^2Y^3\tX^2Y\tXZ^2\tXY\tZ^2\t\n",
      "XZ\tX^2Z^3\tX^3Y^3\tZ^2\tX^2\tXY^2\tXY^3\tX^3Y\tX^2Z\tZ\tX^2Y\tXY\tX^3Z^3\tX^3\tX^2Z^3\tY^3\tXZ^3\tY\tXZ^2\tX^3Z\tX^2Y^3\tY^2\tZ^3\tI\t\n",
      "XZ^2\tX^3Y\tX^3Z^3\tY^2\tX^2Z^3\tX^3Z\tZ^2\tXZ^3\tX^2Y\tX^2\tX^3\tX^2Y^3\tZ^3\tX^2Z\tZ\tXZ\tX^2Z^3\tXY\tY^3\tI\tY\tXY^3\tX^3Y^3\tXY^2\t\n",
      "XZ^3\tZ^3\tXY^3\tY^3\tX^2Z\tY\tX^3Y^3\tX^2Y\tX^2\tXZ^2\tX^3Y\tX^3\tX^2Y^3\tXY\tI\tZ^2\tXZ\tXY^2\tZ\tY^2\tX^3Z^3\tX^3Z\tX^2Z^3\tX^2Z^3\t\n",
      "X^2Y\tX^2Y^3\tX^3Z\tZ\tXY\tX^3Z^3\tX^2Z^3\tX^2\tXZ^2\tXZ^3\tZ^3\tX^3Y\tX^3\tXY^2\tY^2\tX^3Y^3\tZ^2\tX^2Z^3\tI\tY^3\tXY^3\tY\tXZ\tX^2Z\t\n",
      "X^2Y^3\tX^3Z\tZ\tX^2Y\tZ^3\tX^3Y\tX^3\tXY^2\tY^2\tX^3Y^3\tZ^2\tXZ^2\tX^2Z^3\tXY^3\tX^3Z^3\tY\tI\tY^3\tXY\tX^2Z^3\tXZ\tX^2Z\tX^2\tXZ^3\t\n",
      "X^3Y\tX^3Z^3\tY^2\tXZ^2\tX^3\tX^2Y^3\tZ^3\tX^2Z\tZ\tXZ\tX^2Z^3\tX^2Y\tXY\tY\tX^3Z\tXY^3\tY^3\tI\tX^2Z^3\tZ^2\tX^3Y^3\tXY^2\tXZ^3\tX^2\t\n",
      "X^3Y^3\tZ^2\tXZ\tX^2Z^3\tXZ^3\tX^2Z\tY\tX^2Y^3\tXY^2\tY^2\tXZ^2\tX^2Z^3\tX^3Z\tZ^3\tXY\tI\tX^2\tXY^3\tX^2Y\tX^3Z^3\tX^3Y\tZ\tX^3\tY^3\t\n",
      "X^2Z\tXY\tXY^2\tX^2Z^3\tY\tX^3Y^3\tXZ^3\tZ\tXZ\tX^3Y\tX^3Z^3\tX^2Z^3\tX^2Y\tI\tZ^2\tZ^3\tXY^3\tX^2\tX^3Z\tXZ^2\tY^2\tX^2Y^3\tY^3\tX^3\t\n",
      "X^2Z^3\tX^2Z\tXY\tXY^2\tX^3Z\tZ^2\tXZ^2\tY^3\tX^2Z^3\tX^3\tY\tX^3Y^3\tXZ^3\tZ\tXZ\tX^3Y\tX^3Z^3\tX^2Y\tXY^3\tX^2\tI\tZ^3\tY^2\tX^2Y^3\t\n",
      "X^2Z^3\tX^3Y^3\tZ^2\tXZ\tX^2Y\tXY\tX^3Z^3\tX^3\tX^2Z^3\tY^3\tXZ^3\tX^2Z\tY\tX^2Y^3\tXY^2\tY^2\tXZ^2\tX^3Z\tX^2\tXY^3\tZ^3\tI\tX^3Y\tZ\t\n",
      "X^3Z\tZ\tX^2Y\tX^2Y^3\tZ^2\tXZ^2\tX^2Z^3\tXY^3\tX^3Z^3\tY\tI\tY^2\tY^3\tXZ\tX^3Y\tX^2Z\tXY\tX^2Z^3\tZ^3\tX^3\tX^2\tXZ^3\tXY^2\tX^3Y^3\t\n",
      "X^3Z^3\tY^2\tXZ^2\tX^3Y\tX^2Z^3\tX^2Y\tXY\tY\tX^3Z\tXY^3\tY^3\tZ\tI\tX^3Y^3\tX^2Y^3\tXY^2\tX^2Z^3\tZ^2\tX^3\tZ^3\tXZ^3\tX^2\tX^2Z\tXZ\t\n"
     ]
    }
   ],
   "source": [
    "vals = np.array([])\n",
    "for row in grp:\n",
    "    for col in grp:\n",
    "        counter = 0\n",
    "        for check in grp:\n",
    "            if(row@col == check).all():\n",
    "                print(dict[counter], end=\"\\t\")\n",
    "                vals = np.append(vals,counter)\n",
    "            counter = counter + 1\n",
    "    print()"
   ]
  },
  {
   "cell_type": "code",
   "execution_count": 77,
   "metadata": {},
   "outputs": [
    {
     "name": "stdout",
     "output_type": "stream",
     "text": [
      "[ 0  1  2  3  4  5  6  7  8  9 10 11 12 13 14 15 16 17 18 19 20 21 22 23\n",
      "  1  2  3  0 10 11 12 13 14 15 16  8 17 20  5 21 18 19  4  6 22 23  7  9\n",
      "  2  3  0  1 16  8 17 20  5 21 18 14 19 22 11 23  4  6 10 12  7  9 13 15\n",
      "  3  0  1  2 18 14 19 22 11 23  4  5  6  7  8  9 10 12 16 17 13 15 20 21\n",
      "  4 13 17 23  5  6  0 18 16 10 20 22  7 14 15  1  2  8 21  9 19 12  3 11\n",
      "  5 14  8 11  6  0  4 21  2 20 19  3 18 15  1 13 17 16 12 10  9  7 23 22\n",
      "  6 15 16 22  0  4  5 12 17 19  9 23 21  1 13 14  8  2  7 20 10 18 11  3\n",
      "  7 12 21 18 13 20 22  8  9  0  1 10 11 17 19  6 15 23 14  3  2  5 16  4\n",
      "  8 11  5 14 17  2 16  9  0  7 12  1 10 23  3 22  6  4 19 18 21 20 15 13\n",
      "  9 10 20 19 23 21 15  0  7  8 11 12  1  4 18 16 22 13  3 14  5  2  6 17\n",
      " 10 20 19  9 11 12  1  4 18 16 22  7 13  5 21  2  3 14 23 15  6 17  0  8\n",
      " 11  5 14  8 12  1 10 23  3 22  6  0  4 21  2 20 19 18 17 16 15 13  9  7\n",
      " 12 21 18  7  1 10 11 17 19  6 15  9 23  2 20  5 14  3 13 22 16  4  8  0\n",
      " 13 17 23  4 20 22  7 14 15  1  2 16  8 19  6 12 21  9  5  0  3 11 18 10\n",
      " 14  8 11  5 19  3 18 15  1 13 17  2 16  9  0  7 12 10  6  4 23 22 21 20\n",
      " 15 16 22  6  9 23 21  1 13 14  8 17  2 10  4 18  7 20  0  5 11  3 12 19\n",
      " 16 22  6 15  8 17  2 10  4 18  7 13 20 11 23  3  0  5  9 21 12 19  1 14\n",
      " 17 23  4 13  2 16  8 19  6 12 21 15  9  3 22 11  5  0 20  7 18 10 14  1\n",
      " 18  7 12 21 14 19  3 16 10  4 13 20 22  8  9  0  1 11 15 23 17  6  2  5\n",
      " 19  9 10 20  3 18 14  6 12 17 23 21 15  0  7  8 11  1 22 13  4 16  5  2\n",
      " 20 19  9 10 22  7 13  5 21  2  3 18 14  6 12 17 23 15 11  1  0  8  4 16\n",
      " 21 18  7 12 15  9 23  2 20  5 14 19  3 16 10  4 13 22  1 11  8  0 17  6\n",
      " 22  6 15 16  7 13 20 11 23  3  0  4  5 12 17 19  9 21  8  2  1 14 10 18\n",
      " 23  4 13 17 21 15  9  3 22 11  5  6  0 18 16 10 20  7  2  8 14  1 19 12]\n"
     ]
    }
   ],
   "source": [
    "import matplotlib as mpl\n",
    "from matplotlib import pyplot\n",
    "vals = vals.astype(int)\n",
    "vals.reshape(1,576)\n",
    "vals.reshape(24,24)\n",
    "print(vals)"
   ]
  },
  {
   "cell_type": "code",
   "execution_count": 78,
   "metadata": {},
   "outputs": [],
   "source": [
    "vals2 = vals.reshape(1,576) + 1"
   ]
  },
  {
   "cell_type": "code",
   "execution_count": 79,
   "metadata": {},
   "outputs": [
    {
     "name": "stdout",
     "output_type": "stream",
     "text": [
      "[[ 0  1  2  3  4  5  6  7  8  9 10 11 12 13 14 15 16 17 18 19 20 21 22 23\n",
      "   1  2  3  0 10 11 12 13 14 15 16  8 17 20  5 21 18 19  4  6 22 23  7  9\n",
      "   2  3  0  1 16  8 17 20  5 21 18 14 19 22 11 23  4  6 10 12  7  9 13 15\n",
      "   3  0  1  2 18 14 19 22 11 23  4  5  6  7  8  9 10 12 16 17 13 15 20 21\n",
      "   4 13 17 23  5  6  0 18 16 10 20 22  7 14 15  1  2  8 21  9 19 12  3 11\n",
      "   5 14  8 11  6  0  4 21  2 20 19  3 18 15  1 13 17 16 12 10  9  7 23 22\n",
      "   6 15 16 22  0  4  5 12 17 19  9 23 21  1 13 14  8  2  7 20 10 18 11  3\n",
      "   7 12 21 18 13 20 22  8  9  0  1 10 11 17 19  6 15 23 14  3  2  5 16  4\n",
      "   8 11  5 14 17  2 16  9  0  7 12  1 10 23  3 22  6  4 19 18 21 20 15 13\n",
      "   9 10 20 19 23 21 15  0  7  8 11 12  1  4 18 16 22 13  3 14  5  2  6 17\n",
      "  10 20 19  9 11 12  1  4 18 16 22  7 13  5 21  2  3 14 23 15  6 17  0  8\n",
      "  11  5 14  8 12  1 10 23  3 22  6  0  4 21  2 20 19 18 17 16 15 13  9  7\n",
      "  12 21 18  7  1 10 11 17 19  6 15  9 23  2 20  5 14  3 13 22 16  4  8  0\n",
      "  13 17 23  4 20 22  7 14 15  1  2 16  8 19  6 12 21  9  5  0  3 11 18 10\n",
      "  14  8 11  5 19  3 18 15  1 13 17  2 16  9  0  7 12 10  6  4 23 22 21 20\n",
      "  15 16 22  6  9 23 21  1 13 14  8 17  2 10  4 18  7 20  0  5 11  3 12 19\n",
      "  16 22  6 15  8 17  2 10  4 18  7 13 20 11 23  3  0  5  9 21 12 19  1 14\n",
      "  17 23  4 13  2 16  8 19  6 12 21 15  9  3 22 11  5  0 20  7 18 10 14  1\n",
      "  18  7 12 21 14 19  3 16 10  4 13 20 22  8  9  0  1 11 15 23 17  6  2  5\n",
      "  19  9 10 20  3 18 14  6 12 17 23 21 15  0  7  8 11  1 22 13  4 16  5  2\n",
      "  20 19  9 10 22  7 13  5 21  2  3 18 14  6 12 17 23 15 11  1  0  8  4 16\n",
      "  21 18  7 12 15  9 23  2 20  5 14 19  3 16 10  4 13 22  1 11  8  0 17  6\n",
      "  22  6 15 16  7 13 20 11 23  3  0  4  5 12 17 19  9 21  8  2  1 14 10 18\n",
      "  23  4 13 17 21 15  9  3 22 11  5  6  0 18 16 10 20  7  2  8 14  1 19 12]]\n"
     ]
    }
   ],
   "source": [
    "print(vals2)"
   ]
  },
  {
   "cell_type": "code",
   "execution_count": 88,
   "metadata": {},
   "outputs": [],
   "source": [
    "vals2 = vals2.reshape(24,24)"
   ]
  },
  {
   "cell_type": "code",
   "execution_count": 113,
   "metadata": {
    "scrolled": true
   },
   "outputs": [
    {
     "name": "stderr",
     "output_type": "stream",
     "text": [
      "<ipython-input-113-a43c6565c26c>:6: MatplotlibDeprecationWarning: The 'cmap' parameter to Colorbar has no effect because it is overridden by the mappable; it is deprecated since 3.3 and will be removed two minor releases later.\n",
      "  pyplot.colorbar(img,cmap = cmap, norm = norm, boundaries = bounds, ticks = [1,2,3,4,5,6,7,8,9,10,11,12,13,14,15,16,17,18,19,20,21,22,23,24])\n",
      "<ipython-input-113-a43c6565c26c>:6: MatplotlibDeprecationWarning: The 'norm' parameter to Colorbar has no effect because it is overridden by the mappable; it is deprecated since 3.3 and will be removed two minor releases later.\n",
      "  pyplot.colorbar(img,cmap = cmap, norm = norm, boundaries = bounds, ticks = [1,2,3,4,5,6,7,8,9,10,11,12,13,14,15,16,17,18,19,20,21,22,23,24])\n"
     ]
    },
    {
     "data": {
      "text/plain": [
       "<matplotlib.colorbar.Colorbar at 0x1d1b26dfd60>"
      ]
     },
     "execution_count": 113,
     "metadata": {},
     "output_type": "execute_result"
    },
    {
     "data": {
      "image/png": "[encoded data removed]",
      "text/plain": [
       "<Figure size 432x288 with 2 Axes>"
      ]
     },
     "metadata": {
      "needs_background": "light"
     },
     "output_type": "display_data"
    }
   ],
   "source": [
    "vals = vals2\n",
    "cmap = mpl.colors.LinearSegmentedColormap.from_list('my_colormap',['white','maroon','red','orange','yellow','green','blue','purple'],256)\n",
    "bounds = [1,2,3,4,5,6,7,8,9,10,11,12,13,14,15,16,17,18,19,20,21,22,23,24]\n",
    "norm = mpl.colors.BoundaryNorm(bounds, cmap.N)\n",
    "img = pyplot.imshow(vals, interpolation='nearest', cmap = cmap, norm = norm)\n",
    "pyplot.colorbar(img,cmap = cmap, norm = norm, boundaries = bounds, ticks = [1,2,3,4,5,6,7,8,9,10,11,12,13,14,15,16,17,18,19,20,21,22,23,24])"
   ]
  },
  {
   "cell_type": "code",
   "execution_count": 96,
   "metadata": {},
   "outputs": [
    {
     "name": "stderr",
     "output_type": "stream",
     "text": [
      "<ipython-input-96-ffea518ab3bc>:18: MatplotlibDeprecationWarning: The 'cmap' parameter to Colorbar has no effect because it is overridden by the mappable; it is deprecated since 3.3 and will be removed two minor releases later.\n",
      "  pyplot.colorbar(img,cmap=cmap,\n",
      "<ipython-input-96-ffea518ab3bc>:18: MatplotlibDeprecationWarning: The 'norm' parameter to Colorbar has no effect because it is overridden by the mappable; it is deprecated since 3.3 and will be removed two minor releases later.\n",
      "  pyplot.colorbar(img,cmap=cmap,\n"
     ]
    },
    {
     "ename": "ValueError",
     "evalue": "Invalid string grayscale value '525252'. Value must be within 0-1 range",
     "output_type": "error",
     "traceback": [
      "\u001b[1;31m---------------------------------------------------------------------------\u001b[0m",
      "\u001b[1;31mValueError\u001b[0m                                Traceback (most recent call last)",
      "\u001b[1;32m~\\anaconda3\\lib\\site-packages\\IPython\\core\\formatters.py\u001b[0m in \u001b[0;36m__call__\u001b[1;34m(self, obj)\u001b[0m\n\u001b[0;32m    339\u001b[0m                 \u001b[1;32mpass\u001b[0m\u001b[1;33m\u001b[0m\u001b[1;33m\u001b[0m\u001b[0m\n\u001b[0;32m    340\u001b[0m             \u001b[1;32melse\u001b[0m\u001b[1;33m:\u001b[0m\u001b[1;33m\u001b[0m\u001b[1;33m\u001b[0m\u001b[0m\n\u001b[1;32m--> 341\u001b[1;33m                 \u001b[1;32mreturn\u001b[0m \u001b[0mprinter\u001b[0m\u001b[1;33m(\u001b[0m\u001b[0mobj\u001b[0m\u001b[1;33m)\u001b[0m\u001b[1;33m\u001b[0m\u001b[1;33m\u001b[0m\u001b[0m\n\u001b[0m\u001b[0;32m    342\u001b[0m             \u001b[1;31m# Finally look for special method names\u001b[0m\u001b[1;33m\u001b[0m\u001b[1;33m\u001b[0m\u001b[1;33m\u001b[0m\u001b[0m\n\u001b[0;32m    343\u001b[0m             \u001b[0mmethod\u001b[0m \u001b[1;33m=\u001b[0m \u001b[0mget_real_method\u001b[0m\u001b[1;33m(\u001b[0m\u001b[0mobj\u001b[0m\u001b[1;33m,\u001b[0m \u001b[0mself\u001b[0m\u001b[1;33m.\u001b[0m\u001b[0mprint_method\u001b[0m\u001b[1;33m)\u001b[0m\u001b[1;33m\u001b[0m\u001b[1;33m\u001b[0m\u001b[0m\n",
      "\u001b[1;32m~\\anaconda3\\lib\\site-packages\\IPython\\core\\pylabtools.py\u001b[0m in \u001b[0;36m<lambda>\u001b[1;34m(fig)\u001b[0m\n\u001b[0;32m    246\u001b[0m \u001b[1;33m\u001b[0m\u001b[0m\n\u001b[0;32m    247\u001b[0m     \u001b[1;32mif\u001b[0m \u001b[1;34m'png'\u001b[0m \u001b[1;32min\u001b[0m \u001b[0mformats\u001b[0m\u001b[1;33m:\u001b[0m\u001b[1;33m\u001b[0m\u001b[1;33m\u001b[0m\u001b[0m\n\u001b[1;32m--> 248\u001b[1;33m         \u001b[0mpng_formatter\u001b[0m\u001b[1;33m.\u001b[0m\u001b[0mfor_type\u001b[0m\u001b[1;33m(\u001b[0m\u001b[0mFigure\u001b[0m\u001b[1;33m,\u001b[0m \u001b[1;32mlambda\u001b[0m \u001b[0mfig\u001b[0m\u001b[1;33m:\u001b[0m \u001b[0mprint_figure\u001b[0m\u001b[1;33m(\u001b[0m\u001b[0mfig\u001b[0m\u001b[1;33m,\u001b[0m \u001b[1;34m'png'\u001b[0m\u001b[1;33m,\u001b[0m \u001b[1;33m**\u001b[0m\u001b[0mkwargs\u001b[0m\u001b[1;33m)\u001b[0m\u001b[1;33m)\u001b[0m\u001b[1;33m\u001b[0m\u001b[1;33m\u001b[0m\u001b[0m\n\u001b[0m\u001b[0;32m    249\u001b[0m     \u001b[1;32mif\u001b[0m \u001b[1;34m'retina'\u001b[0m \u001b[1;32min\u001b[0m \u001b[0mformats\u001b[0m \u001b[1;32mor\u001b[0m \u001b[1;34m'png2x'\u001b[0m \u001b[1;32min\u001b[0m \u001b[0mformats\u001b[0m\u001b[1;33m:\u001b[0m\u001b[1;33m\u001b[0m\u001b[1;33m\u001b[0m\u001b[0m\n\u001b[0;32m    250\u001b[0m         \u001b[0mpng_formatter\u001b[0m\u001b[1;33m.\u001b[0m\u001b[0mfor_type\u001b[0m\u001b[1;33m(\u001b[0m\u001b[0mFigure\u001b[0m\u001b[1;33m,\u001b[0m \u001b[1;32mlambda\u001b[0m \u001b[0mfig\u001b[0m\u001b[1;33m:\u001b[0m \u001b[0mretina_figure\u001b[0m\u001b[1;33m(\u001b[0m\u001b[0mfig\u001b[0m\u001b[1;33m,\u001b[0m \u001b[1;33m**\u001b[0m\u001b[0mkwargs\u001b[0m\u001b[1;33m)\u001b[0m\u001b[1;33m)\u001b[0m\u001b[1;33m\u001b[0m\u001b[1;33m\u001b[0m\u001b[0m\n",
      "\u001b[1;32m~\\anaconda3\\lib\\site-packages\\IPython\\core\\pylabtools.py\u001b[0m in \u001b[0;36mprint_figure\u001b[1;34m(fig, fmt, bbox_inches, **kwargs)\u001b[0m\n\u001b[0;32m    130\u001b[0m         \u001b[0mFigureCanvasBase\u001b[0m\u001b[1;33m(\u001b[0m\u001b[0mfig\u001b[0m\u001b[1;33m)\u001b[0m\u001b[1;33m\u001b[0m\u001b[1;33m\u001b[0m\u001b[0m\n\u001b[0;32m    131\u001b[0m \u001b[1;33m\u001b[0m\u001b[0m\n\u001b[1;32m--> 132\u001b[1;33m     \u001b[0mfig\u001b[0m\u001b[1;33m.\u001b[0m\u001b[0mcanvas\u001b[0m\u001b[1;33m.\u001b[0m\u001b[0mprint_figure\u001b[0m\u001b[1;33m(\u001b[0m\u001b[0mbytes_io\u001b[0m\u001b[1;33m,\u001b[0m \u001b[1;33m**\u001b[0m\u001b[0mkw\u001b[0m\u001b[1;33m)\u001b[0m\u001b[1;33m\u001b[0m\u001b[1;33m\u001b[0m\u001b[0m\n\u001b[0m\u001b[0;32m    133\u001b[0m     \u001b[0mdata\u001b[0m \u001b[1;33m=\u001b[0m \u001b[0mbytes_io\u001b[0m\u001b[1;33m.\u001b[0m\u001b[0mgetvalue\u001b[0m\u001b[1;33m(\u001b[0m\u001b[1;33m)\u001b[0m\u001b[1;33m\u001b[0m\u001b[1;33m\u001b[0m\u001b[0m\n\u001b[0;32m    134\u001b[0m     \u001b[1;32mif\u001b[0m \u001b[0mfmt\u001b[0m \u001b[1;33m==\u001b[0m \u001b[1;34m'svg'\u001b[0m\u001b[1;33m:\u001b[0m\u001b[1;33m\u001b[0m\u001b[1;33m\u001b[0m\u001b[0m\n",
      "\u001b[1;32m~\\anaconda3\\lib\\site-packages\\matplotlib\\backend_bases.py\u001b[0m in \u001b[0;36mprint_figure\u001b[1;34m(self, filename, dpi, facecolor, edgecolor, orientation, format, bbox_inches, pad_inches, bbox_extra_artists, backend, **kwargs)\u001b[0m\n\u001b[0;32m   2191\u001b[0m                            else suppress())\n\u001b[0;32m   2192\u001b[0m                     \u001b[1;32mwith\u001b[0m \u001b[0mctx\u001b[0m\u001b[1;33m:\u001b[0m\u001b[1;33m\u001b[0m\u001b[1;33m\u001b[0m\u001b[0m\n\u001b[1;32m-> 2193\u001b[1;33m                         \u001b[0mself\u001b[0m\u001b[1;33m.\u001b[0m\u001b[0mfigure\u001b[0m\u001b[1;33m.\u001b[0m\u001b[0mdraw\u001b[0m\u001b[1;33m(\u001b[0m\u001b[0mrenderer\u001b[0m\u001b[1;33m)\u001b[0m\u001b[1;33m\u001b[0m\u001b[1;33m\u001b[0m\u001b[0m\n\u001b[0m\u001b[0;32m   2194\u001b[0m \u001b[1;33m\u001b[0m\u001b[0m\n\u001b[0;32m   2195\u001b[0m                     bbox_inches = self.figure.get_tightbbox(\n",
      "\u001b[1;32m~\\anaconda3\\lib\\site-packages\\matplotlib\\artist.py\u001b[0m in \u001b[0;36mdraw_wrapper\u001b[1;34m(artist, renderer, *args, **kwargs)\u001b[0m\n\u001b[0;32m     39\u001b[0m                 \u001b[0mrenderer\u001b[0m\u001b[1;33m.\u001b[0m\u001b[0mstart_filter\u001b[0m\u001b[1;33m(\u001b[0m\u001b[1;33m)\u001b[0m\u001b[1;33m\u001b[0m\u001b[1;33m\u001b[0m\u001b[0m\n\u001b[0;32m     40\u001b[0m \u001b[1;33m\u001b[0m\u001b[0m\n\u001b[1;32m---> 41\u001b[1;33m             \u001b[1;32mreturn\u001b[0m \u001b[0mdraw\u001b[0m\u001b[1;33m(\u001b[0m\u001b[0martist\u001b[0m\u001b[1;33m,\u001b[0m \u001b[0mrenderer\u001b[0m\u001b[1;33m,\u001b[0m \u001b[1;33m*\u001b[0m\u001b[0margs\u001b[0m\u001b[1;33m,\u001b[0m \u001b[1;33m**\u001b[0m\u001b[0mkwargs\u001b[0m\u001b[1;33m)\u001b[0m\u001b[1;33m\u001b[0m\u001b[1;33m\u001b[0m\u001b[0m\n\u001b[0m\u001b[0;32m     42\u001b[0m         \u001b[1;32mfinally\u001b[0m\u001b[1;33m:\u001b[0m\u001b[1;33m\u001b[0m\u001b[1;33m\u001b[0m\u001b[0m\n\u001b[0;32m     43\u001b[0m             \u001b[1;32mif\u001b[0m \u001b[0martist\u001b[0m\u001b[1;33m.\u001b[0m\u001b[0mget_agg_filter\u001b[0m\u001b[1;33m(\u001b[0m\u001b[1;33m)\u001b[0m \u001b[1;32mis\u001b[0m \u001b[1;32mnot\u001b[0m \u001b[1;32mNone\u001b[0m\u001b[1;33m:\u001b[0m\u001b[1;33m\u001b[0m\u001b[1;33m\u001b[0m\u001b[0m\n",
      "\u001b[1;32m~\\anaconda3\\lib\\site-packages\\matplotlib\\figure.py\u001b[0m in \u001b[0;36mdraw\u001b[1;34m(self, renderer)\u001b[0m\n\u001b[0;32m   1861\u001b[0m \u001b[1;33m\u001b[0m\u001b[0m\n\u001b[0;32m   1862\u001b[0m             \u001b[0mself\u001b[0m\u001b[1;33m.\u001b[0m\u001b[0mpatch\u001b[0m\u001b[1;33m.\u001b[0m\u001b[0mdraw\u001b[0m\u001b[1;33m(\u001b[0m\u001b[0mrenderer\u001b[0m\u001b[1;33m)\u001b[0m\u001b[1;33m\u001b[0m\u001b[1;33m\u001b[0m\u001b[0m\n\u001b[1;32m-> 1863\u001b[1;33m             mimage._draw_list_compositing_images(\n\u001b[0m\u001b[0;32m   1864\u001b[0m                 renderer, self, artists, self.suppressComposite)\n\u001b[0;32m   1865\u001b[0m \u001b[1;33m\u001b[0m\u001b[0m\n",
      "\u001b[1;32m~\\anaconda3\\lib\\site-packages\\matplotlib\\image.py\u001b[0m in \u001b[0;36m_draw_list_compositing_images\u001b[1;34m(renderer, parent, artists, suppress_composite)\u001b[0m\n\u001b[0;32m    129\u001b[0m     \u001b[1;32mif\u001b[0m \u001b[0mnot_composite\u001b[0m \u001b[1;32mor\u001b[0m \u001b[1;32mnot\u001b[0m \u001b[0mhas_images\u001b[0m\u001b[1;33m:\u001b[0m\u001b[1;33m\u001b[0m\u001b[1;33m\u001b[0m\u001b[0m\n\u001b[0;32m    130\u001b[0m         \u001b[1;32mfor\u001b[0m \u001b[0ma\u001b[0m \u001b[1;32min\u001b[0m \u001b[0martists\u001b[0m\u001b[1;33m:\u001b[0m\u001b[1;33m\u001b[0m\u001b[1;33m\u001b[0m\u001b[0m\n\u001b[1;32m--> 131\u001b[1;33m             \u001b[0ma\u001b[0m\u001b[1;33m.\u001b[0m\u001b[0mdraw\u001b[0m\u001b[1;33m(\u001b[0m\u001b[0mrenderer\u001b[0m\u001b[1;33m)\u001b[0m\u001b[1;33m\u001b[0m\u001b[1;33m\u001b[0m\u001b[0m\n\u001b[0m\u001b[0;32m    132\u001b[0m     \u001b[1;32melse\u001b[0m\u001b[1;33m:\u001b[0m\u001b[1;33m\u001b[0m\u001b[1;33m\u001b[0m\u001b[0m\n\u001b[0;32m    133\u001b[0m         \u001b[1;31m# Composite any adjacent images together\u001b[0m\u001b[1;33m\u001b[0m\u001b[1;33m\u001b[0m\u001b[1;33m\u001b[0m\u001b[0m\n",
      "\u001b[1;32m~\\anaconda3\\lib\\site-packages\\matplotlib\\artist.py\u001b[0m in \u001b[0;36mdraw_wrapper\u001b[1;34m(artist, renderer, *args, **kwargs)\u001b[0m\n\u001b[0;32m     39\u001b[0m                 \u001b[0mrenderer\u001b[0m\u001b[1;33m.\u001b[0m\u001b[0mstart_filter\u001b[0m\u001b[1;33m(\u001b[0m\u001b[1;33m)\u001b[0m\u001b[1;33m\u001b[0m\u001b[1;33m\u001b[0m\u001b[0m\n\u001b[0;32m     40\u001b[0m \u001b[1;33m\u001b[0m\u001b[0m\n\u001b[1;32m---> 41\u001b[1;33m             \u001b[1;32mreturn\u001b[0m \u001b[0mdraw\u001b[0m\u001b[1;33m(\u001b[0m\u001b[0martist\u001b[0m\u001b[1;33m,\u001b[0m \u001b[0mrenderer\u001b[0m\u001b[1;33m,\u001b[0m \u001b[1;33m*\u001b[0m\u001b[0margs\u001b[0m\u001b[1;33m,\u001b[0m \u001b[1;33m**\u001b[0m\u001b[0mkwargs\u001b[0m\u001b[1;33m)\u001b[0m\u001b[1;33m\u001b[0m\u001b[1;33m\u001b[0m\u001b[0m\n\u001b[0m\u001b[0;32m     42\u001b[0m         \u001b[1;32mfinally\u001b[0m\u001b[1;33m:\u001b[0m\u001b[1;33m\u001b[0m\u001b[1;33m\u001b[0m\u001b[0m\n\u001b[0;32m     43\u001b[0m             \u001b[1;32mif\u001b[0m \u001b[0martist\u001b[0m\u001b[1;33m.\u001b[0m\u001b[0mget_agg_filter\u001b[0m\u001b[1;33m(\u001b[0m\u001b[1;33m)\u001b[0m \u001b[1;32mis\u001b[0m \u001b[1;32mnot\u001b[0m \u001b[1;32mNone\u001b[0m\u001b[1;33m:\u001b[0m\u001b[1;33m\u001b[0m\u001b[1;33m\u001b[0m\u001b[0m\n",
      "\u001b[1;32m~\\anaconda3\\lib\\site-packages\\matplotlib\\cbook\\deprecation.py\u001b[0m in \u001b[0;36mwrapper\u001b[1;34m(*inner_args, **inner_kwargs)\u001b[0m\n\u001b[0;32m    409\u001b[0m                          \u001b[1;32melse\u001b[0m \u001b[0mdeprecation_addendum\u001b[0m\u001b[1;33m,\u001b[0m\u001b[1;33m\u001b[0m\u001b[1;33m\u001b[0m\u001b[0m\n\u001b[0;32m    410\u001b[0m                 **kwargs)\n\u001b[1;32m--> 411\u001b[1;33m         \u001b[1;32mreturn\u001b[0m \u001b[0mfunc\u001b[0m\u001b[1;33m(\u001b[0m\u001b[1;33m*\u001b[0m\u001b[0minner_args\u001b[0m\u001b[1;33m,\u001b[0m \u001b[1;33m**\u001b[0m\u001b[0minner_kwargs\u001b[0m\u001b[1;33m)\u001b[0m\u001b[1;33m\u001b[0m\u001b[1;33m\u001b[0m\u001b[0m\n\u001b[0m\u001b[0;32m    412\u001b[0m \u001b[1;33m\u001b[0m\u001b[0m\n\u001b[0;32m    413\u001b[0m     \u001b[1;32mreturn\u001b[0m \u001b[0mwrapper\u001b[0m\u001b[1;33m\u001b[0m\u001b[1;33m\u001b[0m\u001b[0m\n",
      "\u001b[1;32m~\\anaconda3\\lib\\site-packages\\matplotlib\\axes\\_base.py\u001b[0m in \u001b[0;36mdraw\u001b[1;34m(self, renderer, inframe)\u001b[0m\n\u001b[0;32m   2745\u001b[0m             \u001b[0mrenderer\u001b[0m\u001b[1;33m.\u001b[0m\u001b[0mstop_rasterizing\u001b[0m\u001b[1;33m(\u001b[0m\u001b[1;33m)\u001b[0m\u001b[1;33m\u001b[0m\u001b[1;33m\u001b[0m\u001b[0m\n\u001b[0;32m   2746\u001b[0m \u001b[1;33m\u001b[0m\u001b[0m\n\u001b[1;32m-> 2747\u001b[1;33m         \u001b[0mmimage\u001b[0m\u001b[1;33m.\u001b[0m\u001b[0m_draw_list_compositing_images\u001b[0m\u001b[1;33m(\u001b[0m\u001b[0mrenderer\u001b[0m\u001b[1;33m,\u001b[0m \u001b[0mself\u001b[0m\u001b[1;33m,\u001b[0m \u001b[0martists\u001b[0m\u001b[1;33m)\u001b[0m\u001b[1;33m\u001b[0m\u001b[1;33m\u001b[0m\u001b[0m\n\u001b[0m\u001b[0;32m   2748\u001b[0m \u001b[1;33m\u001b[0m\u001b[0m\n\u001b[0;32m   2749\u001b[0m         \u001b[0mrenderer\u001b[0m\u001b[1;33m.\u001b[0m\u001b[0mclose_group\u001b[0m\u001b[1;33m(\u001b[0m\u001b[1;34m'axes'\u001b[0m\u001b[1;33m)\u001b[0m\u001b[1;33m\u001b[0m\u001b[1;33m\u001b[0m\u001b[0m\n",
      "\u001b[1;32m~\\anaconda3\\lib\\site-packages\\matplotlib\\image.py\u001b[0m in \u001b[0;36m_draw_list_compositing_images\u001b[1;34m(renderer, parent, artists, suppress_composite)\u001b[0m\n\u001b[0;32m    129\u001b[0m     \u001b[1;32mif\u001b[0m \u001b[0mnot_composite\u001b[0m \u001b[1;32mor\u001b[0m \u001b[1;32mnot\u001b[0m \u001b[0mhas_images\u001b[0m\u001b[1;33m:\u001b[0m\u001b[1;33m\u001b[0m\u001b[1;33m\u001b[0m\u001b[0m\n\u001b[0;32m    130\u001b[0m         \u001b[1;32mfor\u001b[0m \u001b[0ma\u001b[0m \u001b[1;32min\u001b[0m \u001b[0martists\u001b[0m\u001b[1;33m:\u001b[0m\u001b[1;33m\u001b[0m\u001b[1;33m\u001b[0m\u001b[0m\n\u001b[1;32m--> 131\u001b[1;33m             \u001b[0ma\u001b[0m\u001b[1;33m.\u001b[0m\u001b[0mdraw\u001b[0m\u001b[1;33m(\u001b[0m\u001b[0mrenderer\u001b[0m\u001b[1;33m)\u001b[0m\u001b[1;33m\u001b[0m\u001b[1;33m\u001b[0m\u001b[0m\n\u001b[0m\u001b[0;32m    132\u001b[0m     \u001b[1;32melse\u001b[0m\u001b[1;33m:\u001b[0m\u001b[1;33m\u001b[0m\u001b[1;33m\u001b[0m\u001b[0m\n\u001b[0;32m    133\u001b[0m         \u001b[1;31m# Composite any adjacent images together\u001b[0m\u001b[1;33m\u001b[0m\u001b[1;33m\u001b[0m\u001b[1;33m\u001b[0m\u001b[0m\n",
      "\u001b[1;32m~\\anaconda3\\lib\\site-packages\\matplotlib\\artist.py\u001b[0m in \u001b[0;36mdraw_wrapper\u001b[1;34m(artist, renderer, *args, **kwargs)\u001b[0m\n\u001b[0;32m     39\u001b[0m                 \u001b[0mrenderer\u001b[0m\u001b[1;33m.\u001b[0m\u001b[0mstart_filter\u001b[0m\u001b[1;33m(\u001b[0m\u001b[1;33m)\u001b[0m\u001b[1;33m\u001b[0m\u001b[1;33m\u001b[0m\u001b[0m\n\u001b[0;32m     40\u001b[0m \u001b[1;33m\u001b[0m\u001b[0m\n\u001b[1;32m---> 41\u001b[1;33m             \u001b[1;32mreturn\u001b[0m \u001b[0mdraw\u001b[0m\u001b[1;33m(\u001b[0m\u001b[0martist\u001b[0m\u001b[1;33m,\u001b[0m \u001b[0mrenderer\u001b[0m\u001b[1;33m,\u001b[0m \u001b[1;33m*\u001b[0m\u001b[0margs\u001b[0m\u001b[1;33m,\u001b[0m \u001b[1;33m**\u001b[0m\u001b[0mkwargs\u001b[0m\u001b[1;33m)\u001b[0m\u001b[1;33m\u001b[0m\u001b[1;33m\u001b[0m\u001b[0m\n\u001b[0m\u001b[0;32m     42\u001b[0m         \u001b[1;32mfinally\u001b[0m\u001b[1;33m:\u001b[0m\u001b[1;33m\u001b[0m\u001b[1;33m\u001b[0m\u001b[0m\n\u001b[0;32m     43\u001b[0m             \u001b[1;32mif\u001b[0m \u001b[0martist\u001b[0m\u001b[1;33m.\u001b[0m\u001b[0mget_agg_filter\u001b[0m\u001b[1;33m(\u001b[0m\u001b[1;33m)\u001b[0m \u001b[1;32mis\u001b[0m \u001b[1;32mnot\u001b[0m \u001b[1;32mNone\u001b[0m\u001b[1;33m:\u001b[0m\u001b[1;33m\u001b[0m\u001b[1;33m\u001b[0m\u001b[0m\n",
      "\u001b[1;32m~\\anaconda3\\lib\\site-packages\\matplotlib\\image.py\u001b[0m in \u001b[0;36mdraw\u001b[1;34m(self, renderer, *args, **kwargs)\u001b[0m\n\u001b[0;32m    639\u001b[0m                 \u001b[0mrenderer\u001b[0m\u001b[1;33m.\u001b[0m\u001b[0mdraw_image\u001b[0m\u001b[1;33m(\u001b[0m\u001b[0mgc\u001b[0m\u001b[1;33m,\u001b[0m \u001b[0ml\u001b[0m\u001b[1;33m,\u001b[0m \u001b[0mb\u001b[0m\u001b[1;33m,\u001b[0m \u001b[0mim\u001b[0m\u001b[1;33m,\u001b[0m \u001b[0mtrans\u001b[0m\u001b[1;33m)\u001b[0m\u001b[1;33m\u001b[0m\u001b[1;33m\u001b[0m\u001b[0m\n\u001b[0;32m    640\u001b[0m         \u001b[1;32melse\u001b[0m\u001b[1;33m:\u001b[0m\u001b[1;33m\u001b[0m\u001b[1;33m\u001b[0m\u001b[0m\n\u001b[1;32m--> 641\u001b[1;33m             im, l, b, trans = self.make_image(\n\u001b[0m\u001b[0;32m    642\u001b[0m                 renderer, renderer.get_image_magnification())\n\u001b[0;32m    643\u001b[0m             \u001b[1;32mif\u001b[0m \u001b[0mim\u001b[0m \u001b[1;32mis\u001b[0m \u001b[1;32mnot\u001b[0m \u001b[1;32mNone\u001b[0m\u001b[1;33m:\u001b[0m\u001b[1;33m\u001b[0m\u001b[1;33m\u001b[0m\u001b[0m\n",
      "\u001b[1;32m~\\anaconda3\\lib\\site-packages\\matplotlib\\image.py\u001b[0m in \u001b[0;36mmake_image\u001b[1;34m(self, renderer, magnification, unsampled)\u001b[0m\n\u001b[0;32m    924\u001b[0m         clip = ((self.get_clip_box() or self.axes.bbox) if self.get_clip_on()\n\u001b[0;32m    925\u001b[0m                 else self.figure.bbox)\n\u001b[1;32m--> 926\u001b[1;33m         return self._make_image(self._A, bbox, transformed_bbox, clip,\n\u001b[0m\u001b[0;32m    927\u001b[0m                                 magnification, unsampled=unsampled)\n\u001b[0;32m    928\u001b[0m \u001b[1;33m\u001b[0m\u001b[0m\n",
      "\u001b[1;32m~\\anaconda3\\lib\\site-packages\\matplotlib\\image.py\u001b[0m in \u001b[0;36m_make_image\u001b[1;34m(self, A, in_bbox, out_bbox, clip_bbox, magnification, unsampled, round_to_pixel_border)\u001b[0m\n\u001b[0;32m    557\u001b[0m             \u001b[1;31m# (of int or float)\u001b[0m\u001b[1;33m\u001b[0m\u001b[1;33m\u001b[0m\u001b[1;33m\u001b[0m\u001b[0m\n\u001b[0;32m    558\u001b[0m             \u001b[1;31m# or an RGBA array of re-sampled input\u001b[0m\u001b[1;33m\u001b[0m\u001b[1;33m\u001b[0m\u001b[1;33m\u001b[0m\u001b[0m\n\u001b[1;32m--> 559\u001b[1;33m             \u001b[0moutput\u001b[0m \u001b[1;33m=\u001b[0m \u001b[0mself\u001b[0m\u001b[1;33m.\u001b[0m\u001b[0mto_rgba\u001b[0m\u001b[1;33m(\u001b[0m\u001b[0moutput\u001b[0m\u001b[1;33m,\u001b[0m \u001b[0mbytes\u001b[0m\u001b[1;33m=\u001b[0m\u001b[1;32mTrue\u001b[0m\u001b[1;33m,\u001b[0m \u001b[0mnorm\u001b[0m\u001b[1;33m=\u001b[0m\u001b[1;32mFalse\u001b[0m\u001b[1;33m)\u001b[0m\u001b[1;33m\u001b[0m\u001b[1;33m\u001b[0m\u001b[0m\n\u001b[0m\u001b[0;32m    560\u001b[0m             \u001b[1;31m# output is now a correctly sized RGBA array of uint8\u001b[0m\u001b[1;33m\u001b[0m\u001b[1;33m\u001b[0m\u001b[1;33m\u001b[0m\u001b[0m\n\u001b[0;32m    561\u001b[0m \u001b[1;33m\u001b[0m\u001b[0m\n",
      "\u001b[1;32m~\\anaconda3\\lib\\site-packages\\matplotlib\\cm.py\u001b[0m in \u001b[0;36mto_rgba\u001b[1;34m(self, x, alpha, bytes, norm)\u001b[0m\n\u001b[0;32m    331\u001b[0m         \u001b[1;32mif\u001b[0m \u001b[0mnorm\u001b[0m\u001b[1;33m:\u001b[0m\u001b[1;33m\u001b[0m\u001b[1;33m\u001b[0m\u001b[0m\n\u001b[0;32m    332\u001b[0m             \u001b[0mx\u001b[0m \u001b[1;33m=\u001b[0m \u001b[0mself\u001b[0m\u001b[1;33m.\u001b[0m\u001b[0mnorm\u001b[0m\u001b[1;33m(\u001b[0m\u001b[0mx\u001b[0m\u001b[1;33m)\u001b[0m\u001b[1;33m\u001b[0m\u001b[1;33m\u001b[0m\u001b[0m\n\u001b[1;32m--> 333\u001b[1;33m         \u001b[0mrgba\u001b[0m \u001b[1;33m=\u001b[0m \u001b[0mself\u001b[0m\u001b[1;33m.\u001b[0m\u001b[0mcmap\u001b[0m\u001b[1;33m(\u001b[0m\u001b[0mx\u001b[0m\u001b[1;33m,\u001b[0m \u001b[0malpha\u001b[0m\u001b[1;33m=\u001b[0m\u001b[0malpha\u001b[0m\u001b[1;33m,\u001b[0m \u001b[0mbytes\u001b[0m\u001b[1;33m=\u001b[0m\u001b[0mbytes\u001b[0m\u001b[1;33m)\u001b[0m\u001b[1;33m\u001b[0m\u001b[1;33m\u001b[0m\u001b[0m\n\u001b[0m\u001b[0;32m    334\u001b[0m         \u001b[1;32mreturn\u001b[0m \u001b[0mrgba\u001b[0m\u001b[1;33m\u001b[0m\u001b[1;33m\u001b[0m\u001b[0m\n\u001b[0;32m    335\u001b[0m \u001b[1;33m\u001b[0m\u001b[0m\n",
      "\u001b[1;32m~\\anaconda3\\lib\\site-packages\\matplotlib\\colors.py\u001b[0m in \u001b[0;36m__call__\u001b[1;34m(self, X, alpha, bytes)\u001b[0m\n\u001b[0;32m    566\u001b[0m         \"\"\"\n\u001b[0;32m    567\u001b[0m         \u001b[1;32mif\u001b[0m \u001b[1;32mnot\u001b[0m \u001b[0mself\u001b[0m\u001b[1;33m.\u001b[0m\u001b[0m_isinit\u001b[0m\u001b[1;33m:\u001b[0m\u001b[1;33m\u001b[0m\u001b[1;33m\u001b[0m\u001b[0m\n\u001b[1;32m--> 568\u001b[1;33m             \u001b[0mself\u001b[0m\u001b[1;33m.\u001b[0m\u001b[0m_init\u001b[0m\u001b[1;33m(\u001b[0m\u001b[1;33m)\u001b[0m\u001b[1;33m\u001b[0m\u001b[1;33m\u001b[0m\u001b[0m\n\u001b[0m\u001b[0;32m    569\u001b[0m \u001b[1;33m\u001b[0m\u001b[0m\n\u001b[0;32m    570\u001b[0m         \u001b[0mmask_bad\u001b[0m \u001b[1;33m=\u001b[0m \u001b[0mX\u001b[0m\u001b[1;33m.\u001b[0m\u001b[0mmask\u001b[0m \u001b[1;32mif\u001b[0m \u001b[0mnp\u001b[0m\u001b[1;33m.\u001b[0m\u001b[0mma\u001b[0m\u001b[1;33m.\u001b[0m\u001b[0mis_masked\u001b[0m\u001b[1;33m(\u001b[0m\u001b[0mX\u001b[0m\u001b[1;33m)\u001b[0m \u001b[1;32melse\u001b[0m \u001b[0mnp\u001b[0m\u001b[1;33m.\u001b[0m\u001b[0misnan\u001b[0m\u001b[1;33m(\u001b[0m\u001b[0mX\u001b[0m\u001b[1;33m)\u001b[0m  \u001b[1;31m# Mask nan's.\u001b[0m\u001b[1;33m\u001b[0m\u001b[1;33m\u001b[0m\u001b[0m\n",
      "\u001b[1;32m~\\anaconda3\\lib\\site-packages\\matplotlib\\colors.py\u001b[0m in \u001b[0;36m_init\u001b[1;34m(self)\u001b[0m\n\u001b[0;32m    913\u001b[0m     \u001b[1;32mdef\u001b[0m \u001b[0m_init\u001b[0m\u001b[1;33m(\u001b[0m\u001b[0mself\u001b[0m\u001b[1;33m)\u001b[0m\u001b[1;33m:\u001b[0m\u001b[1;33m\u001b[0m\u001b[1;33m\u001b[0m\u001b[0m\n\u001b[0;32m    914\u001b[0m         \u001b[0mself\u001b[0m\u001b[1;33m.\u001b[0m\u001b[0m_lut\u001b[0m \u001b[1;33m=\u001b[0m \u001b[0mnp\u001b[0m\u001b[1;33m.\u001b[0m\u001b[0mzeros\u001b[0m\u001b[1;33m(\u001b[0m\u001b[1;33m(\u001b[0m\u001b[0mself\u001b[0m\u001b[1;33m.\u001b[0m\u001b[0mN\u001b[0m \u001b[1;33m+\u001b[0m \u001b[1;36m3\u001b[0m\u001b[1;33m,\u001b[0m \u001b[1;36m4\u001b[0m\u001b[1;33m)\u001b[0m\u001b[1;33m,\u001b[0m \u001b[0mfloat\u001b[0m\u001b[1;33m)\u001b[0m\u001b[1;33m\u001b[0m\u001b[1;33m\u001b[0m\u001b[0m\n\u001b[1;32m--> 915\u001b[1;33m         \u001b[0mself\u001b[0m\u001b[1;33m.\u001b[0m\u001b[0m_lut\u001b[0m\u001b[1;33m[\u001b[0m\u001b[1;33m:\u001b[0m\u001b[1;33m-\u001b[0m\u001b[1;36m3\u001b[0m\u001b[1;33m]\u001b[0m \u001b[1;33m=\u001b[0m \u001b[0mto_rgba_array\u001b[0m\u001b[1;33m(\u001b[0m\u001b[0mself\u001b[0m\u001b[1;33m.\u001b[0m\u001b[0mcolors\u001b[0m\u001b[1;33m)\u001b[0m\u001b[1;33m\u001b[0m\u001b[1;33m\u001b[0m\u001b[0m\n\u001b[0m\u001b[0;32m    916\u001b[0m         \u001b[0mself\u001b[0m\u001b[1;33m.\u001b[0m\u001b[0m_isinit\u001b[0m \u001b[1;33m=\u001b[0m \u001b[1;32mTrue\u001b[0m\u001b[1;33m\u001b[0m\u001b[1;33m\u001b[0m\u001b[0m\n\u001b[0;32m    917\u001b[0m         \u001b[0mself\u001b[0m\u001b[1;33m.\u001b[0m\u001b[0m_set_extremes\u001b[0m\u001b[1;33m(\u001b[0m\u001b[1;33m)\u001b[0m\u001b[1;33m\u001b[0m\u001b[1;33m\u001b[0m\u001b[0m\n",
      "\u001b[1;32m~\\anaconda3\\lib\\site-packages\\matplotlib\\colors.py\u001b[0m in \u001b[0;36mto_rgba_array\u001b[1;34m(c, alpha)\u001b[0m\n\u001b[0;32m    339\u001b[0m         \u001b[1;32mreturn\u001b[0m \u001b[0mnp\u001b[0m\u001b[1;33m.\u001b[0m\u001b[0mzeros\u001b[0m\u001b[1;33m(\u001b[0m\u001b[1;33m(\u001b[0m\u001b[1;36m0\u001b[0m\u001b[1;33m,\u001b[0m \u001b[1;36m4\u001b[0m\u001b[1;33m)\u001b[0m\u001b[1;33m,\u001b[0m \u001b[0mfloat\u001b[0m\u001b[1;33m)\u001b[0m\u001b[1;33m\u001b[0m\u001b[1;33m\u001b[0m\u001b[0m\n\u001b[0;32m    340\u001b[0m     \u001b[1;32melse\u001b[0m\u001b[1;33m:\u001b[0m\u001b[1;33m\u001b[0m\u001b[1;33m\u001b[0m\u001b[0m\n\u001b[1;32m--> 341\u001b[1;33m         \u001b[1;32mreturn\u001b[0m \u001b[0mnp\u001b[0m\u001b[1;33m.\u001b[0m\u001b[0marray\u001b[0m\u001b[1;33m(\u001b[0m\u001b[1;33m[\u001b[0m\u001b[0mto_rgba\u001b[0m\u001b[1;33m(\u001b[0m\u001b[0mcc\u001b[0m\u001b[1;33m,\u001b[0m \u001b[0malpha\u001b[0m\u001b[1;33m)\u001b[0m \u001b[1;32mfor\u001b[0m \u001b[0mcc\u001b[0m \u001b[1;32min\u001b[0m \u001b[0mc\u001b[0m\u001b[1;33m]\u001b[0m\u001b[1;33m)\u001b[0m\u001b[1;33m\u001b[0m\u001b[1;33m\u001b[0m\u001b[0m\n\u001b[0m\u001b[0;32m    342\u001b[0m \u001b[1;33m\u001b[0m\u001b[0m\n\u001b[0;32m    343\u001b[0m \u001b[1;33m\u001b[0m\u001b[0m\n",
      "\u001b[1;32m~\\anaconda3\\lib\\site-packages\\matplotlib\\colors.py\u001b[0m in \u001b[0;36m<listcomp>\u001b[1;34m(.0)\u001b[0m\n\u001b[0;32m    339\u001b[0m         \u001b[1;32mreturn\u001b[0m \u001b[0mnp\u001b[0m\u001b[1;33m.\u001b[0m\u001b[0mzeros\u001b[0m\u001b[1;33m(\u001b[0m\u001b[1;33m(\u001b[0m\u001b[1;36m0\u001b[0m\u001b[1;33m,\u001b[0m \u001b[1;36m4\u001b[0m\u001b[1;33m)\u001b[0m\u001b[1;33m,\u001b[0m \u001b[0mfloat\u001b[0m\u001b[1;33m)\u001b[0m\u001b[1;33m\u001b[0m\u001b[1;33m\u001b[0m\u001b[0m\n\u001b[0;32m    340\u001b[0m     \u001b[1;32melse\u001b[0m\u001b[1;33m:\u001b[0m\u001b[1;33m\u001b[0m\u001b[1;33m\u001b[0m\u001b[0m\n\u001b[1;32m--> 341\u001b[1;33m         \u001b[1;32mreturn\u001b[0m \u001b[0mnp\u001b[0m\u001b[1;33m.\u001b[0m\u001b[0marray\u001b[0m\u001b[1;33m(\u001b[0m\u001b[1;33m[\u001b[0m\u001b[0mto_rgba\u001b[0m\u001b[1;33m(\u001b[0m\u001b[0mcc\u001b[0m\u001b[1;33m,\u001b[0m \u001b[0malpha\u001b[0m\u001b[1;33m)\u001b[0m \u001b[1;32mfor\u001b[0m \u001b[0mcc\u001b[0m \u001b[1;32min\u001b[0m \u001b[0mc\u001b[0m\u001b[1;33m]\u001b[0m\u001b[1;33m)\u001b[0m\u001b[1;33m\u001b[0m\u001b[1;33m\u001b[0m\u001b[0m\n\u001b[0m\u001b[0;32m    342\u001b[0m \u001b[1;33m\u001b[0m\u001b[0m\n\u001b[0;32m    343\u001b[0m \u001b[1;33m\u001b[0m\u001b[0m\n",
      "\u001b[1;32m~\\anaconda3\\lib\\site-packages\\matplotlib\\colors.py\u001b[0m in \u001b[0;36mto_rgba\u001b[1;34m(c, alpha)\u001b[0m\n\u001b[0;32m    187\u001b[0m         \u001b[0mrgba\u001b[0m \u001b[1;33m=\u001b[0m \u001b[1;32mNone\u001b[0m\u001b[1;33m\u001b[0m\u001b[1;33m\u001b[0m\u001b[0m\n\u001b[0;32m    188\u001b[0m     \u001b[1;32mif\u001b[0m \u001b[0mrgba\u001b[0m \u001b[1;32mis\u001b[0m \u001b[1;32mNone\u001b[0m\u001b[1;33m:\u001b[0m  \u001b[1;31m# Suppress exception chaining of cache lookup failure.\u001b[0m\u001b[1;33m\u001b[0m\u001b[1;33m\u001b[0m\u001b[0m\n\u001b[1;32m--> 189\u001b[1;33m         \u001b[0mrgba\u001b[0m \u001b[1;33m=\u001b[0m \u001b[0m_to_rgba_no_colorcycle\u001b[0m\u001b[1;33m(\u001b[0m\u001b[0mc\u001b[0m\u001b[1;33m,\u001b[0m \u001b[0malpha\u001b[0m\u001b[1;33m)\u001b[0m\u001b[1;33m\u001b[0m\u001b[1;33m\u001b[0m\u001b[0m\n\u001b[0m\u001b[0;32m    190\u001b[0m         \u001b[1;32mtry\u001b[0m\u001b[1;33m:\u001b[0m\u001b[1;33m\u001b[0m\u001b[1;33m\u001b[0m\u001b[0m\n\u001b[0;32m    191\u001b[0m             \u001b[0m_colors_full_map\u001b[0m\u001b[1;33m.\u001b[0m\u001b[0mcache\u001b[0m\u001b[1;33m[\u001b[0m\u001b[0mc\u001b[0m\u001b[1;33m,\u001b[0m \u001b[0malpha\u001b[0m\u001b[1;33m]\u001b[0m \u001b[1;33m=\u001b[0m \u001b[0mrgba\u001b[0m\u001b[1;33m\u001b[0m\u001b[1;33m\u001b[0m\u001b[0m\n",
      "\u001b[1;32m~\\anaconda3\\lib\\site-packages\\matplotlib\\colors.py\u001b[0m in \u001b[0;36m_to_rgba_no_colorcycle\u001b[1;34m(c, alpha)\u001b[0m\n\u001b[0;32m    254\u001b[0m         \u001b[1;32melse\u001b[0m\u001b[1;33m:\u001b[0m\u001b[1;33m\u001b[0m\u001b[1;33m\u001b[0m\u001b[0m\n\u001b[0;32m    255\u001b[0m             \u001b[1;32mif\u001b[0m \u001b[1;32mnot\u001b[0m \u001b[1;33m(\u001b[0m\u001b[1;36m0\u001b[0m \u001b[1;33m<=\u001b[0m \u001b[0mc\u001b[0m \u001b[1;33m<=\u001b[0m \u001b[1;36m1\u001b[0m\u001b[1;33m)\u001b[0m\u001b[1;33m:\u001b[0m\u001b[1;33m\u001b[0m\u001b[1;33m\u001b[0m\u001b[0m\n\u001b[1;32m--> 256\u001b[1;33m                 raise ValueError(\n\u001b[0m\u001b[0;32m    257\u001b[0m                     \u001b[1;34mf\"Invalid string grayscale value {orig_c!r}. \"\u001b[0m\u001b[1;33m\u001b[0m\u001b[1;33m\u001b[0m\u001b[0m\n\u001b[0;32m    258\u001b[0m                     f\"Value must be within 0-1 range\")\n",
      "\u001b[1;31mValueError\u001b[0m: Invalid string grayscale value '525252'. Value must be within 0-1 range"
     ]
    },
    {
     "data": {
      "text/plain": [
       "<Figure size 432x288 with 2 Axes>"
      ]
     },
     "metadata": {
      "needs_background": "light"
     },
     "output_type": "display_data"
    }
   ],
   "source": [
    "import matplotlib as mpl\n",
    "from matplotlib import pyplot\n",
    "import numpy as np\n",
    "\n",
    "# make values from -5 to 5, for this example\n",
    "zvals = vals2\n",
    "\n",
    "# make a color map of fixed colors\n",
    "cmap = mpl.colors.ListedColormap(['blue','black','red'])\n",
    "bounds=[-6,-2,2,6]\n",
    "norm = mpl.colors.BoundaryNorm(bounds, cmap.N)\n",
    "\n",
    "# tell imshow about color map so that only set colors are used\n",
    "img = pyplot.imshow(zvals,interpolation='nearest',\n",
    "                    cmap = cmap,norm=norm)\n",
    "\n",
    "# make a color bar\n",
    "pyplot.colorbar(img,cmap=cmap,\n",
    "                norm=norm,boundaries=bounds,ticks=[-5,0,5])\n",
    "\n",
    "pyplot.show()"
   ]
  },
  {
   "cell_type": "code",
   "execution_count": 91,
   "metadata": {},
   "outputs": [
    {
     "data": {
      "text/plain": [
       "array([[ 0,  1,  2,  3,  4,  5,  6,  7,  8,  9, 10, 11, 12, 13, 14, 15,\n",
       "        16, 17, 18, 19, 20, 21, 22, 23],\n",
       "       [ 1,  2,  3,  0, 10, 11, 12, 13, 14, 15, 16,  8, 17, 20,  5, 21,\n",
       "        18, 19,  4,  6, 22, 23,  7,  9],\n",
       "       [ 2,  3,  0,  1, 16,  8, 17, 20,  5, 21, 18, 14, 19, 22, 11, 23,\n",
       "         4,  6, 10, 12,  7,  9, 13, 15],\n",
       "       [ 3,  0,  1,  2, 18, 14, 19, 22, 11, 23,  4,  5,  6,  7,  8,  9,\n",
       "        10, 12, 16, 17, 13, 15, 20, 21],\n",
       "       [ 4, 13, 17, 23,  5,  6,  0, 18, 16, 10, 20, 22,  7, 14, 15,  1,\n",
       "         2,  8, 21,  9, 19, 12,  3, 11],\n",
       "       [ 5, 14,  8, 11,  6,  0,  4, 21,  2, 20, 19,  3, 18, 15,  1, 13,\n",
       "        17, 16, 12, 10,  9,  7, 23, 22],\n",
       "       [ 6, 15, 16, 22,  0,  4,  5, 12, 17, 19,  9, 23, 21,  1, 13, 14,\n",
       "         8,  2,  7, 20, 10, 18, 11,  3],\n",
       "       [ 7, 12, 21, 18, 13, 20, 22,  8,  9,  0,  1, 10, 11, 17, 19,  6,\n",
       "        15, 23, 14,  3,  2,  5, 16,  4],\n",
       "       [ 8, 11,  5, 14, 17,  2, 16,  9,  0,  7, 12,  1, 10, 23,  3, 22,\n",
       "         6,  4, 19, 18, 21, 20, 15, 13],\n",
       "       [ 9, 10, 20, 19, 23, 21, 15,  0,  7,  8, 11, 12,  1,  4, 18, 16,\n",
       "        22, 13,  3, 14,  5,  2,  6, 17],\n",
       "       [10, 20, 19,  9, 11, 12,  1,  4, 18, 16, 22,  7, 13,  5, 21,  2,\n",
       "         3, 14, 23, 15,  6, 17,  0,  8],\n",
       "       [11,  5, 14,  8, 12,  1, 10, 23,  3, 22,  6,  0,  4, 21,  2, 20,\n",
       "        19, 18, 17, 16, 15, 13,  9,  7],\n",
       "       [12, 21, 18,  7,  1, 10, 11, 17, 19,  6, 15,  9, 23,  2, 20,  5,\n",
       "        14,  3, 13, 22, 16,  4,  8,  0],\n",
       "       [13, 17, 23,  4, 20, 22,  7, 14, 15,  1,  2, 16,  8, 19,  6, 12,\n",
       "        21,  9,  5,  0,  3, 11, 18, 10],\n",
       "       [14,  8, 11,  5, 19,  3, 18, 15,  1, 13, 17,  2, 16,  9,  0,  7,\n",
       "        12, 10,  6,  4, 23, 22, 21, 20],\n",
       "       [15, 16, 22,  6,  9, 23, 21,  1, 13, 14,  8, 17,  2, 10,  4, 18,\n",
       "         7, 20,  0,  5, 11,  3, 12, 19],\n",
       "       [16, 22,  6, 15,  8, 17,  2, 10,  4, 18,  7, 13, 20, 11, 23,  3,\n",
       "         0,  5,  9, 21, 12, 19,  1, 14],\n",
       "       [17, 23,  4, 13,  2, 16,  8, 19,  6, 12, 21, 15,  9,  3, 22, 11,\n",
       "         5,  0, 20,  7, 18, 10, 14,  1],\n",
       "       [18,  7, 12, 21, 14, 19,  3, 16, 10,  4, 13, 20, 22,  8,  9,  0,\n",
       "         1, 11, 15, 23, 17,  6,  2,  5],\n",
       "       [19,  9, 10, 20,  3, 18, 14,  6, 12, 17, 23, 21, 15,  0,  7,  8,\n",
       "        11,  1, 22, 13,  4, 16,  5,  2],\n",
       "       [20, 19,  9, 10, 22,  7, 13,  5, 21,  2,  3, 18, 14,  6, 12, 17,\n",
       "        23, 15, 11,  1,  0,  8,  4, 16],\n",
       "       [21, 18,  7, 12, 15,  9, 23,  2, 20,  5, 14, 19,  3, 16, 10,  4,\n",
       "        13, 22,  1, 11,  8,  0, 17,  6],\n",
       "       [22,  6, 15, 16,  7, 13, 20, 11, 23,  3,  0,  4,  5, 12, 17, 19,\n",
       "         9, 21,  8,  2,  1, 14, 10, 18],\n",
       "       [23,  4, 13, 17, 21, 15,  9,  3, 22, 11,  5,  6,  0, 18, 16, 10,\n",
       "        20,  7,  2,  8, 14,  1, 19, 12]])"
      ]
     },
     "execution_count": 91,
     "metadata": {},
     "output_type": "execute_result"
    }
   ],
   "source": [
    "vals2"
   ]
  },
  {
   "cell_type": "code",
   "execution_count": null,
   "metadata": {},
   "outputs": [],
   "source": []
  }
 ],
 "metadata": {
  "kernelspec": {
   "display_name": "Python 3",
   "language": "python",
   "name": "python3"
  },
  "language_info": {
   "codemirror_mode": {
    "name": "ipython",
    "version": 3
   },
   "file_extension": ".py",
   "mimetype": "text/x-python",
   "name": "python",
   "nbconvert_exporter": "python",
   "pygments_lexer": "ipython3",
   "version": "3.8.5"
  }
 },
 "nbformat": 4,
 "nbformat_minor": 4
}
