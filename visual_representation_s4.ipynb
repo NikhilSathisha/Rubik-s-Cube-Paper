{
 "cells": [
  {
   "cell_type": "code",
   "execution_count": null,
   "metadata": {},
   "outputs": [],
   "source": [
    "import numpy as np"
   ]
  },
  {
   "cell_type": "markdown",
   "metadata": {},
   "source": [
    "## Here I Generate the Matrices Representing the operations\n",
    "I did this in the process described in the paper"
   ]
  },
  {
   "cell_type": "code",
   "execution_count": 32,
   "metadata": {
    "scrolled": true
   },
   "outputs": [
    {
     "name": "stdout",
     "output_type": "stream",
     "text": [
      "[[ 1  0  0]\n",
      " [ 0  0  1]\n",
      " [ 0 -1  0]]\n",
      "[[ 0  0 -1]\n",
      " [ 0  1  0]\n",
      " [ 1  0  0]]\n",
      "[[ 0  1  0]\n",
      " [-1  0  0]\n",
      " [ 0  0  1]]\n"
     ]
    }
   ],
   "source": [
    "X = np.array([1,0,0,0,0,1,0,-1,0])\n",
    "X = X.reshape(3,3)\n",
    "Y = np.array([0,0,-1,0,1,0,1,0,0])\n",
    "Y = Y.reshape(3,3)\n",
    "Z = np.array([0,1,0,-1,0,0,0,0,1])\n",
    "Z = Z.reshape(3,3)\n",
    "I = np.array([1,0,0,0,1,0,0,0,1])\n",
    "I = I.reshape(3,3)\n",
    "print(X)\n",
    "print(Y)\n",
    "print(Z)\n",
    "dict = {0:\"I\", 1:\"X\" ,2:\"X^2\", 3:\"X^3\", 4:\"Y\", 5:\"Y^2\", 6:\"Y^3\", 7:\"Z\", 8:\"Z^2\", 9:\"Z^3\", 10:\"XY\", 11:\"XY^2\",12:\"XY^3\", 13: \"XZ\", 14: \"XZ^2\", 15:\"XZ^3\", 16:\"X^2Y\", 17:\"X^2Y^3\", 18:\"X^3Y\", 19:\"X^3Y^3\", 20:\"X^2Z\", 21:\"X^2Z^3\", 22:\"X^3Z\", 23: \"X^3Z^3\"}\n",
    "grp = [I,X,X@X,X@X@X,Y,Y@Y,Y@Y@Y,Z,Z@Z,Z@Z@Z,X@Y,X@Y@Y,X@Y@Y@Y,X@Z,X@Z@Z,X@Z@Z@Z,X@X@Y,X@X@Y@Y@Y,X@X@X@Y,X@X@X@Y@Y@Y,X@X@Z,X@X@Z@Z@Z,X@X@X@Z,X@X@X@Z@Z@Z]"
   ]
  },
  {
   "cell_type": "markdown",
   "metadata": {},
   "source": [
    "## Confirm Uniqueness\n",
    "Print out the group to confirm uniqueness."
   ]
  },
  {
   "cell_type": "code",
   "execution_count": 33,
   "metadata": {},
   "outputs": [
    {
     "name": "stdout",
     "output_type": "stream",
     "text": [
      "[[1 0 0]\n",
      " [0 1 0]\n",
      " [0 0 1]]\n",
      "[[ 1  0  0]\n",
      " [ 0  0  1]\n",
      " [ 0 -1  0]]\n",
      "[[ 1  0  0]\n",
      " [ 0 -1  0]\n",
      " [ 0  0 -1]]\n",
      "[[ 1  0  0]\n",
      " [ 0  0 -1]\n",
      " [ 0  1  0]]\n",
      "[[ 0  0 -1]\n",
      " [ 0  1  0]\n",
      " [ 1  0  0]]\n",
      "[[-1  0  0]\n",
      " [ 0  1  0]\n",
      " [ 0  0 -1]]\n",
      "[[ 0  0  1]\n",
      " [ 0  1  0]\n",
      " [-1  0  0]]\n",
      "[[ 0  1  0]\n",
      " [-1  0  0]\n",
      " [ 0  0  1]]\n",
      "[[-1  0  0]\n",
      " [ 0 -1  0]\n",
      " [ 0  0  1]]\n",
      "[[ 0 -1  0]\n",
      " [ 1  0  0]\n",
      " [ 0  0  1]]\n",
      "[[ 0  0 -1]\n",
      " [ 1  0  0]\n",
      " [ 0 -1  0]]\n",
      "[[-1  0  0]\n",
      " [ 0  0 -1]\n",
      " [ 0 -1  0]]\n",
      "[[ 0  0  1]\n",
      " [-1  0  0]\n",
      " [ 0 -1  0]]\n",
      "[[0 1 0]\n",
      " [0 0 1]\n",
      " [1 0 0]]\n",
      "[[-1  0  0]\n",
      " [ 0  0  1]\n",
      " [ 0  1  0]]\n",
      "[[ 0 -1  0]\n",
      " [ 0  0  1]\n",
      " [-1  0  0]]\n",
      "[[ 0  0 -1]\n",
      " [ 0 -1  0]\n",
      " [-1  0  0]]\n",
      "[[ 0  0  1]\n",
      " [ 0 -1  0]\n",
      " [ 1  0  0]]\n",
      "[[ 0  0 -1]\n",
      " [-1  0  0]\n",
      " [ 0  1  0]]\n",
      "[[0 0 1]\n",
      " [1 0 0]\n",
      " [0 1 0]]\n",
      "[[ 0  1  0]\n",
      " [ 1  0  0]\n",
      " [ 0  0 -1]]\n",
      "[[ 0 -1  0]\n",
      " [-1  0  0]\n",
      " [ 0  0 -1]]\n",
      "[[ 0  1  0]\n",
      " [ 0  0 -1]\n",
      " [-1  0  0]]\n",
      "[[ 0 -1  0]\n",
      " [ 0  0 -1]\n",
      " [ 1  0  0]]\n"
     ]
    }
   ],
   "source": [
    "for x in grp:\n",
    "    print(x)"
   ]
  },
  {
   "cell_type": "markdown",
   "metadata": {},
   "source": [
    "## Print Cayley Table\n",
    "Do this by computing each dot product and checking which element it corresponds to in the dictionary."
   ]
  },
  {
   "cell_type": "code",
   "execution_count": 34,
   "metadata": {
    "scrolled": false
   },
   "outputs": [
    {
     "name": "stdout",
     "output_type": "stream",
     "text": [
      "I\tX\tX^2\tX^3\tY\tY^2\tY^3\tZ\tZ^2\tZ^3\tXY\tXY^2\tXY^3\tXZ\tXZ^2\tXZ^3\tX^2Y\tX^2Y^3\tX^3Y\tX^3Y^3\tX^2Z\tX^2Z^3\tX^3Z\tX^3Z^3\t\n",
      "X\tX^2\tX^3\tI\tXY\tXY^2\tXY^3\tXZ\tXZ^2\tXZ^3\tX^2Y\tZ^2\tX^2Y^3\tX^2Z\tY^2\tX^2Z^3\tX^3Y\tX^3Y^3\tY\tY^3\tX^3Z\tX^3Z^3\tZ\tZ^3\t\n",
      "X^2\tX^3\tI\tX\tX^2Y\tZ^2\tX^2Y^3\tX^2Z\tY^2\tX^2Z^3\tX^3Y\tXZ^2\tX^3Y^3\tX^3Z\tXY^2\tX^3Z^3\tY\tY^3\tXY\tXY^3\tZ\tZ^3\tXZ\tXZ^3\t\n",
      "X^3\tI\tX\tX^2\tX^3Y\tXZ^2\tX^3Y^3\tX^3Z\tXY^2\tX^3Z^3\tY\tY^2\tY^3\tZ\tZ^2\tZ^3\tXY\tXY^3\tX^2Y\tX^2Y^3\tXZ\tXZ^3\tX^2Z\tX^2Z^3\t\n",
      "Y\tXZ\tX^2Y^3\tX^3Z^3\tY^2\tY^3\tI\tX^3Y\tX^2Y\tXY\tX^2Z\tX^3Z\tZ\tXZ^2\tXZ^3\tX\tX^2\tZ^2\tX^2Z^3\tZ^3\tX^3Y^3\tXY^3\tX^3\tXY^2\t\n",
      "Y^2\tXZ^2\tZ^2\tXY^2\tY^3\tI\tY\tX^2Z^3\tX^2\tX^2Z\tX^3Y^3\tX^3\tX^3Y\tXZ^3\tX\tXZ\tX^2Y^3\tX^2Y\tXY^3\tXY\tZ^3\tZ\tX^3Z^3\tX^3Z\t\n",
      "Y^3\tXZ^3\tX^2Y\tX^3Z\tI\tY\tY^2\tXY^3\tX^2Y^3\tX^3Y^3\tZ^3\tX^3Z^3\tX^2Z^3\tX\tXZ\tXZ^2\tZ^2\tX^2\tZ\tX^2Z\tXY\tX^3Y\tXY^2\tX^3\t\n",
      "Z\tXY^3\tX^2Z^3\tX^3Y\tXZ\tX^2Z\tX^3Z\tZ^2\tZ^3\tI\tX\tXY\tXY^2\tX^2Y^3\tX^3Y^3\tY^3\tXZ^3\tX^3Z^3\tXZ^2\tX^3\tX^2\tY^2\tX^2Y\tY\t\n",
      "Z^2\tXY^2\tY^2\tXZ^2\tX^2Y^3\tX^2\tX^2Y\tZ^3\tI\tZ\tXY^3\tX\tXY\tX^3Z^3\tX^3\tX^3Z\tY^3\tY\tX^3Y^3\tX^3Y\tX^2Z^3\tX^2Z\tXZ^3\tXZ\t\n",
      "Z^3\tXY\tX^2Z\tX^3Y^3\tX^3Z^3\tX^2Z^3\tXZ^3\tI\tZ\tZ^2\tXY^2\tXY^3\tX\tY\tX^3Y\tX^2Y\tX^3Z\tXZ\tX^3\tXZ^2\tY^2\tX^2\tY^3\tX^2Y^3\t\n",
      "XY\tX^2Z\tX^3Y^3\tZ^3\tXY^2\tXY^3\tX\tY\tX^3Y\tX^2Y\tX^3Z\tZ\tXZ\tY^2\tX^2Z^3\tX^2\tX^3\tXZ^2\tX^3Z^3\tXZ^3\tY^3\tX^2Y^3\tI\tZ^2\t\n",
      "XY^2\tY^2\tXZ^2\tZ^2\tXY^3\tX\tXY\tX^3Z^3\tX^3\tX^3Z\tY^3\tI\tY\tX^2Z^3\tX^2\tX^2Z\tX^3Y^3\tX^3Y\tX^2Y^3\tX^2Y\tXZ^3\tXZ\tZ^3\tZ\t\n",
      "XY^3\tX^2Z^3\tX^3Y\tZ\tX\tXY\tXY^2\tX^2Y^3\tX^3Y^3\tY^3\tXZ^3\tZ^3\tX^3Z^3\tX^2\tX^2Z\tY^2\tXZ^2\tX^3\tXZ\tX^3Z\tX^2Y\tY\tZ^2\tI\t\n",
      "XZ\tX^2Y^3\tX^3Z^3\tY\tX^2Z\tX^3Z\tZ\tXZ^2\tXZ^3\tX\tX^2\tX^2Y\tZ^2\tX^3Y^3\tY^3\tXY^3\tX^2Z^3\tZ^3\tY^2\tI\tX^3\tXY^2\tX^3Y\tXY\t\n",
      "XZ^2\tZ^2\tXY^2\tY^2\tX^3Y^3\tX^3\tX^3Y\tXZ^3\tX\tXZ\tX^2Y^3\tX^2\tX^2Y\tZ^3\tI\tZ\tXY^3\tXY\tY^3\tY\tX^3Z^3\tX^3Z\tX^2Z^3\tX^2Z\t\n",
      "XZ^3\tX^2Y\tX^3Z\tY^3\tZ^3\tX^3Z^3\tX^2Z^3\tX\tXZ\tXZ^2\tZ^2\tX^2Y^3\tX^2\tXY\tY\tX^3Y\tZ\tX^2Z\tI\tY^2\tXY^2\tX^3\tXY^3\tX^3Y^3\t\n",
      "X^2Y\tX^3Z\tY^3\tXZ^3\tZ^2\tX^2Y^3\tX^2\tXY\tY\tX^3Y\tZ\tXZ\tX^2Z\tXY^2\tX^3Z^3\tX^3\tI\tY^2\tZ^3\tX^2Z^3\tXY^3\tX^3Y^3\tX\tXZ^2\t\n",
      "X^2Y^3\tX^3Z^3\tY\tXZ\tX^2\tX^2Y\tZ^2\tX^3Y^3\tY^3\tXY^3\tX^2Z^3\tXZ^3\tZ^3\tX^3\tX^3Z\tXY^2\tY^2\tI\tX^2Z\tZ\tX^3Y\tXY\tXZ^2\tX\t\n",
      "X^3Y\tZ\tXY^3\tX^2Z^3\tXZ^2\tX^3Y^3\tX^3\tX^2Y\tXY\tY\tXZ\tX^2Z\tX^3Z\tZ^2\tZ^3\tI\tX\tXY^2\tXZ^3\tX^3Z^3\tX^2Y^3\tY^3\tX^2\tY^2\t\n",
      "X^3Y^3\tZ^3\tXY\tX^2Z\tX^3\tX^3Y\tXZ^2\tY^3\tXY^3\tX^2Y^3\tX^3Z^3\tX^2Z^3\tXZ^3\tI\tZ\tZ^2\tXY^2\tX\tX^3Z\tXZ\tY\tX^2Y\tY^2\tX^2\t\n",
      "X^2Z\tX^3Y^3\tZ^3\tXY\tX^3Z\tZ\tXZ\tY^2\tX^2Z^3\tX^2\tX^3\tX^3Y\tXZ^2\tY^3\tXY^3\tX^2Y^3\tX^3Z^3\tXZ^3\tXY^2\tX\tI\tZ^2\tY\tX^2Y\t\n",
      "X^2Z^3\tX^3Y\tZ\tXY^3\tXZ^3\tZ^3\tX^3Z^3\tX^2\tX^2Z\tY^2\tXZ^2\tX^3Y^3\tX^3\tX^2Y\tXY\tY\tXZ\tX^3Z\tX\tXY^2\tZ^2\tI\tX^2Y^3\tY^3\t\n",
      "X^3Z\tY^3\tXZ^3\tX^2Y\tZ\tXZ\tX^2Z\tXY^2\tX^3Z^3\tX^3\tI\tY\tY^2\tXY^3\tX^2Y^3\tX^3Y^3\tZ^3\tX^2Z^3\tZ^2\tX^2\tX\tXZ^2\tXY\tX^3Y\t\n",
      "X^3Z^3\tY\tXZ\tX^2Y^3\tX^2Z^3\tXZ^3\tZ^3\tX^3\tX^3Z\tXY^2\tY^2\tY^3\tI\tX^3Y\tX^2Y\tXY\tX^2Z\tZ\tX^2\tZ^2\tXZ^2\tX\tX^3Y^3\tXY^3\t\n"
     ]
    }
   ],
   "source": [
    "vals = np.array([])\n",
    "for row in grp:\n",
    "    for col in grp:\n",
    "        counter = 0\n",
    "        for check in grp:\n",
    "            if(row@col == check).all():\n",
    "                print(dict[counter], end=\"\\t\")\n",
    "                vals = np.append(vals,counter)\n",
    "            counter = counter + 1\n",
    "    print()"
   ]
  },
  {
   "cell_type": "markdown",
   "metadata": {},
   "source": [
    "## Color Representation of Cayley Table\n",
    "Using MatPlotLib I use a colormap to correspond to each index in the dictionary and create a visual representation of the cayley table."
   ]
  },
  {
   "cell_type": "code",
   "execution_count": 35,
   "metadata": {},
   "outputs": [],
   "source": [
    "import matplotlib as mpl\n",
    "from matplotlib import pyplot\n",
    "vals = vals.astype(int)\n",
    "vals.reshape(1,576)\n",
    "vals.reshape(24,24)\n",
    "vals2 = vals.reshape(1,576) + 1\n",
    "vals2 = vals2.reshape(24,24)"
   ]
  },
  {
   "cell_type": "code",
   "execution_count": 36,
   "metadata": {
    "scrolled": false
   },
   "outputs": [
    {
     "data": {
      "text/plain": [
       "<matplotlib.colorbar.Colorbar at 0x1c756065dc0>"
      ]
     },
     "execution_count": 36,
     "metadata": {},
     "output_type": "execute_result"
    },
    {
     "data": {
      "image/png": "[encoded data removed]",
      "text/plain": [
       "<Figure size 640x480 with 2 Axes>"
      ]
     },
     "metadata": {},
     "output_type": "display_data"
    }
   ],
   "source": [
    "vals = vals2\n",
    "cmap = mpl.colors.LinearSegmentedColormap.from_list('my_colormap',['white','maroon','red','orange','yellow','green','blue','purple'],512)\n",
    "bounds = [0.5, 1.5, 2.5, 3.5, 4.5, 5.5, 6.5, 7.5, 8.5, 9.5, 10.5, 11.5, 12.5, 13.5, 14.5, 15.5, 16.5, 17.5, 18.5, 19.5, 20.5, 21.5, 22.5, 23.5, 24.5]\n",
    "norm = mpl.colors.BoundaryNorm(bounds, cmap.N)\n",
    "img = pyplot.imshow(vals, interpolation='nearest', cmap = cmap, norm = norm)\n",
    "pyplot.colorbar(img,cmap = cmap, norm = norm, boundaries = bounds, ticks = [1,2,3,4,5,6,7,8,9,10,11,12,13,14,15,16,17,18,19,20,21,22,23,24])"
   ]
  }
 ],
 "metadata": {
  "kernelspec": {
   "display_name": "Python 3 (ipykernel)",
   "language": "python",
   "name": "python3"
  },
  "language_info": {
   "codemirror_mode": {
    "name": "ipython",
    "version": 3
   },
   "file_extension": ".py",
   "mimetype": "text/x-python",
   "name": "python",
   "nbconvert_exporter": "python",
   "pygments_lexer": "ipython3",
   "version": "3.9.13"
  }
 },
 "nbformat": 4,
 "nbformat_minor": 4
}
